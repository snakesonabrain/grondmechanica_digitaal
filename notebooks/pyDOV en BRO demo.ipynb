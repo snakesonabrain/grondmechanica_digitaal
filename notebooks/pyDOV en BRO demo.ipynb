{
 "cells": [
  {
   "cell_type": "markdown",
   "id": "ec1f99df-ca29-46f8-9d32-d3aea3e3d2e5",
   "metadata": {},
   "source": [
    "# pyDOV demo\n",
    "\n",
    "## Import van biblioteken\n",
    "\n",
    "We zullen eerst de Pandas bibliotheek importeren die wordt gebruikt voor om te gaan met data in tabellen. Een Pandas ``DataFrame`` kan gezien worden als een tabel. We zullen het aantal rijen een kolommen dat in de notebook wordt getoond aanpassen."
   ]
  },
  {
   "cell_type": "code",
   "execution_count": null,
   "id": "708810c7-0437-4827-813f-f6998c18a0f2",
   "metadata": {},
   "outputs": [],
   "source": [
    "import pandas as pd\n",
    "pd.options.display.max_columns = 200\n",
    "pd.options.display.max_rows = 1000"
   ]
  },
  {
   "cell_type": "markdown",
   "id": "231ea8d0-1e6c-4f89-8feb-6316ad2c15cb",
   "metadata": {},
   "source": [
    "Vervolgens kunnen we de nodige functionaliteit importeren uit ``pydov``. We kunnen de klasse ``SonderingSearch`` importeren om naar CPTs te zoeken en de klasses ``Within`` en ``Box`` om binnen een rechthoek naar punten te zoeken."
   ]
  },
  {
   "cell_type": "code",
   "execution_count": null,
   "id": "45ffe7e6-59d9-48e9-9ae0-faf7b32f449e",
   "metadata": {},
   "outputs": [],
   "source": [
    "from pydov.search.sondering import SonderingSearch\n",
    "from pydov.util.location import Within, Box"
   ]
  },
  {
   "cell_type": "markdown",
   "id": "03543354-e92d-4460-99c6-7c2e6aa48bf7",
   "metadata": {},
   "source": [
    "We zullen ook Plotly importeren om grafieken te maken:"
   ]
  },
  {
   "cell_type": "code",
   "execution_count": null,
   "id": "48317579-610c-432f-a86e-32dd7a306d7e",
   "metadata": {},
   "outputs": [],
   "source": [
    "from plotly import tools, subplots\n",
    "import plotly.express as px\n",
    "import plotly.graph_objs as go\n",
    "import plotly.io as pio\n",
    "import plotly.figure_factory as ff\n",
    "from plotly.colors import DEFAULT_PLOTLY_COLORS\n",
    "from plotly.offline import download_plotlyjs, init_notebook_mode, plot, iplot\n",
    "init_notebook_mode()\n",
    "pio.templates.default = 'plotly_white'\n",
    "pio.templates['plotly'].layout['autosize'] = False\n",
    "for key in pio.templates.keys():\n",
    "    pio.templates[key].layout['autosize'] = False"
   ]
  },
  {
   "cell_type": "markdown",
   "id": "55400936-943a-471c-ad32-102e1c092022",
   "metadata": {},
   "source": [
    "## Opzoeken van CPTs\n",
    "\n",
    "Om sonderingen op te zoeken starten we met het aanmaken van een ``SonderingSearch`` object. Dit object kan gebruikt worden om de opzoeking te doen, met door de gebruiker gekozen zoekparameters.\n",
    "\n",
    "We kunnen sonderingen opzoeken binnen een ``Box``, een rechthoek begrensd door een punt linksonder en rechtsboven. Deze coordinaten kunnen uit de DOV verkenner of topografische rapporten gehaald worden. De Lambert 72 projectie wordt gebruikt in Vlaanderen.\n",
    "\n",
    "Eens de ``Box`` gedefinieerd is, kunnen we de opzoeking starten door de ``.search`` methode toe te passen. Deze methode voert de API call uit en plaatst de resultaten in een Pandas ``DataFrame``. We kennen dit ``DataFrame`` toe aan de variabele ``df``."
   ]
  },
  {
   "cell_type": "code",
   "execution_count": null,
   "id": "62802446-d8c5-4323-9d4c-1d598abd6412",
   "metadata": {},
   "outputs": [],
   "source": [
    "sondering = SonderingSearch()\n",
    "df = sondering.search(location=Within(Box(103641, 188873, 103700, 189046)))"
   ]
  },
  {
   "cell_type": "markdown",
   "id": "79e6eccf-f404-4bfd-a433-651ae1c62d44",
   "metadata": {},
   "source": [
    "## Bekijken van de gevonden CPTs\n",
    "\n",
    "Eens dit is uitgevoerd, kunnen we kijken wat er in ``df`` zit. We kunnen de eerste vijf rijen van de tabel printen met de methode ``.head``."
   ]
  },
  {
   "cell_type": "code",
   "execution_count": null,
   "id": "de746122-b4e2-4b3c-9413-ffc7a7a76a8f",
   "metadata": {},
   "outputs": [],
   "source": [
    "df.head()"
   ]
  },
  {
   "cell_type": "markdown",
   "id": "64004d4b-8fef-4f1e-bfa4-15d7acaabbd1",
   "metadata": {},
   "source": [
    "We kunnen zien dat we per punt van de CPT (dus voor elke diepte $z$, of waarde van de kolom ``lengte``) een rij hebben.\n",
    "\n",
    "We kunnen ook een statistische samenvatting van de waarden in de verschillende kolommen krijgen met de methode ``.describe``."
   ]
  },
  {
   "cell_type": "code",
   "execution_count": null,
   "id": "06639ae2-4bb2-4db1-9e03-ad3e3d6b9d79",
   "metadata": {},
   "outputs": [],
   "source": [
    "df.describe()"
   ]
  },
  {
   "cell_type": "markdown",
   "id": "7a5ca34d-de11-451b-ae90-731a650b7954",
   "metadata": {
    "tags": []
   },
   "source": [
    "Om er de verschillende CPTs uit te halen, kunnen we kijken naar de unieke waarden van de kolom ``sondeernummer``."
   ]
  },
  {
   "cell_type": "code",
   "execution_count": null,
   "id": "43af84d3-629f-4fde-a1f3-a09016d29bed",
   "metadata": {},
   "outputs": [],
   "source": [
    "df['sondeernummer'].unique()"
   ]
  },
  {
   "cell_type": "markdown",
   "id": "1f362231-7874-4b00-a901-7efa2ffa51ef",
   "metadata": {},
   "source": [
    "We kunnen ook kijken hoeveel unieke CPTs er zijn met de methode ``.__len__``"
   ]
  },
  {
   "cell_type": "code",
   "execution_count": null,
   "id": "b5f9f6c6-3422-4cd6-b212-04d2734d158a",
   "metadata": {},
   "outputs": [],
   "source": [
    "df['sondeernummer'].unique().__len__()"
   ]
  },
  {
   "cell_type": "markdown",
   "id": "43e81857-42ea-4eb2-b459-8dc90dc82d3a",
   "metadata": {},
   "source": [
    "Er zijn 16 CPTs. We kunnen zien welke sondeermethodes er zijn toegepast en dan kunnen we er de CPTs met een elektrische conus uitfilteren. We kijken dan hoeveel dat er zijn:"
   ]
  },
  {
   "cell_type": "code",
   "execution_count": null,
   "id": "49c865b5-6470-4d65-9c92-121b575498a7",
   "metadata": {},
   "outputs": [],
   "source": [
    "df['sondeermethode'].unique()"
   ]
  },
  {
   "cell_type": "code",
   "execution_count": null,
   "id": "a6609fe7-a6a2-4e1b-8cfe-a3d0efb0bf7b",
   "metadata": {},
   "outputs": [],
   "source": [
    "df_elektrisch = df[df['sondeermethode'] == 'continu elektrisch']\n",
    "df_elektrisch['sondeernummer'].unique().__len__()"
   ]
  },
  {
   "cell_type": "markdown",
   "id": "6a1ee63d-d248-4204-8bdd-1c216494ea4c",
   "metadata": {},
   "source": [
    "Er is 1 continu elektrische sondering. We zullen die verder verwerken met ``groundhog``."
   ]
  },
  {
   "cell_type": "code",
   "execution_count": null,
   "id": "c17a9b84-1bfb-47ff-a80c-8dfadae0669a",
   "metadata": {},
   "outputs": [],
   "source": [
    "df_elektrisch['sondeernummer'].unique()"
   ]
  },
  {
   "cell_type": "code",
   "execution_count": null,
   "id": "231d2609-ec8d-4a28-8f88-dc51ec86ce9c",
   "metadata": {},
   "outputs": [],
   "source": [
    "df_elektrisch.head()"
   ]
  },
  {
   "cell_type": "markdown",
   "id": "05d5a2da-1b65-4f9f-aa64-f7633d6e4e49",
   "metadata": {},
   "source": [
    "## CPT verwerking met ``groundhog``\n",
    "\n",
    "``groundhog`` is een bibliotheek met grondmechanische functionaliteit, ook voor verwerking van CPTs. Importeren en visualiseren van CPT resultaten gaat heel snel met ``groundhog``. Hier zullen we de data voor CPT ``WD-07/129-S1-TT/MAN2`` importeren en visualiseren.\n",
    "\n",
    "Eerst kunnen we de klasse ``PCPTProcessing`` importeren. Deze klasse bevat de nodige functionaliteit voor de verwerking."
   ]
  },
  {
   "cell_type": "code",
   "execution_count": null,
   "id": "18944ee9-2469-4049-a271-39dfc2129ae2",
   "metadata": {},
   "outputs": [],
   "source": [
    "from groundhog.siteinvestigation.insitutests.pcpt_processing import PCPTProcessing"
   ]
  },
  {
   "cell_type": "markdown",
   "id": "9a8b8dd0-af83-4c45-ab48-59325bef8866",
   "metadata": {},
   "source": [
    "De workflow start door een ``PCPTProcessing`` object aan te maken. We geven dit de titel van onze sondering."
   ]
  },
  {
   "cell_type": "code",
   "execution_count": null,
   "id": "88fb7396-cbe7-4273-9572-89269592c8b5",
   "metadata": {},
   "outputs": [],
   "source": [
    "cpt = PCPTProcessing(title='WD-07/129-S1-TT/MAN2')"
   ]
  },
  {
   "cell_type": "markdown",
   "id": "0a7bbc4e-23df-4be1-a0b9-522a772ef1ad",
   "metadata": {},
   "source": [
    "De ``PCPTProcessing`` klasse in ``groundhog`` bevat een method ``load_pydov`` die rechtstreeks inladen van CPTs adhv een sondeernummer toelaat.\n",
    "\n",
    "De tabel uit de ``SonderingSearch`` toonde dat de diepte ook soms gegeven is in de kolom ``lengte``. We kunnen dit expliciet opgeven in de methode ``load_pydov``."
   ]
  },
  {
   "cell_type": "code",
   "execution_count": null,
   "id": "d14b6f5d-d2cc-403e-94aa-780e5552bd13",
   "metadata": {},
   "outputs": [],
   "source": [
    "cpt.load_pydov(name='WD-07/129-S1-TT/MAN2', z_key='lengte')"
   ]
  },
  {
   "cell_type": "markdown",
   "id": "c3dc455d-06e8-4e63-9d70-5ab28cb72bdc",
   "metadata": {},
   "source": [
    "De data is nu ingeladen en het ``.data`` attribuut van ``cpt`` is een ``DataFrame`` (tabel) met de CPT data. De volgende kolommen zijn steeds vereist in ``groundhog`` en hebben gestandardiseerde namen:\n",
    "\n",
    "   - ``z [m]``: Diepte van de conus\n",
    "   - ``qc [MPa]``: Conusweerstand\n",
    "   - ``fs [MPa]``: Mantelwrijving\n",
    "   - ``u2 [MPa]``: Poriënwateroverspanning (niet vaak uitgevoerd in Vlaanderen)"
   ]
  },
  {
   "cell_type": "code",
   "execution_count": null,
   "id": "97ee3bc6-6300-464a-82ea-d653f591a3a0",
   "metadata": {},
   "outputs": [],
   "source": [
    "cpt.data.head()"
   ]
  },
  {
   "cell_type": "markdown",
   "id": "2abba01d-1e7e-49ef-96ec-1f60f6b65fda",
   "metadata": {},
   "source": [
    "Het visualiseren van de CPT data kan met één enkele regel code. ``groundhog`` geeft standaard poriënwateroverspanningen weer. Omdat die hier ontbreken kunnen we ipv poriënwateroverspanningen het wrijvingsgetal $ R_f $ weergeven.\n",
    "\n",
    "De grafiek is interactief, dus er kan ingezoomd worden op geselecteerde dieptes. Waardes worden ook weergegeven door over de data te <i>hoveren</i>."
   ]
  },
  {
   "cell_type": "code",
   "execution_count": null,
   "id": "faf4987a-77bf-4d75-ad82-7331d184187f",
   "metadata": {},
   "outputs": [],
   "source": [
    "cpt.plot_raw_pcpt(plot_friction_ratio=True)"
   ]
  },
  {
   "cell_type": "markdown",
   "id": "9a8f11f7-d67c-4302-b3f2-c8fe798fe103",
   "metadata": {},
   "source": [
    "Ook toepassen van correlaties is eenvoudig.\n",
    "\n",
    "We kunnen de correlatie tussen CPT data en wrijvingshoek volgens Kulhawy & Mayne (1990) toepassen op deze CPT. De documentatie voor deze correlatie vind je via de link hieronder.\n",
    "\n",
    "https://groundhog.readthedocs.io/en/main/site_investigation/pcpt_functions.html#groundhog.siteinvestigation.insitutests.pcpt_correlations.frictionangle_sand_kulhawymayne\n",
    "\n",
    "De formule voor de correlatie is:\n",
    "\n",
    "$$ \\varphi^{\\prime} = 17.6 + 11.0 \\cdot \\log_{10} \\left[  \\frac{q_t / P_a}{ \\sqrt{\\sigma_{vo}^{\\prime} / P_a}} \\right] $$ \n",
    "\n",
    "Deze formule is gecalibreerd aan proeven in een calibratiekamer, een drukvat waarin de spanningscondities in de grond worden nagebootst. (http://www.ismgeo.it/en/camera_calibrazione_en.html). Bij toepassen van deze correlaties is het steeds van belang om na te kijken of de zanden in de CPT vergelijkbaar zijn aan de zanden die in de studie met de calibratiekamer werden gebruikt (mineralogie, gehalte aan fijn materiaal <63$\\mu$m, ...)."
   ]
  },
  {
   "cell_type": "markdown",
   "id": "1336413d-d75a-4bb9-a979-47a7e7293be7",
   "metadata": {},
   "source": [
    "De correlatie maakt gebruikt van de gecorigeerde conusweerstand $ q_t $ maar voor een elektrische conus zonder poriënwaterspanningssensor is die gelijk aan $ q_c $ (zie cursus <i>Geotechnics</i>).\n",
    "\n",
    "We moeten ook de verticale effectieve spanning berekenen. Als we uitgaan van een effectief volumegewicht van 9kN/m$^3$ kunnen we zie eenvoudig berekenen. Merk op dat de bewerkingen vectorieel zijn, elke waarde van diepte wordt met 9 vermenigvuldigd en toegekend aan de kolom ``'Vertical effective stress [kPa]'``."
   ]
  },
  {
   "cell_type": "code",
   "execution_count": null,
   "id": "4fce8475-56aa-4daf-91db-383049f60be3",
   "metadata": {},
   "outputs": [],
   "source": [
    "cpt.data['qt [MPa]'] = cpt.data['qc [MPa]']\n",
    "cpt.data['Vertical effective stress [kPa]'] = 9 * cpt.data['z [m]']\n",
    "cpt.data.head()"
   ]
  },
  {
   "cell_type": "markdown",
   "id": "16c8850e-8930-4ca2-a51d-425a33f0403f",
   "metadata": {},
   "source": [
    "Vervolgens kunnen we de formule van Kulhawy & Mayne toepassen op de volledige CPT. De documentatie toont dat de output van de functie een Python dictionary is met <i>key</i> ``'Phi [deg]'`` voor de wrijvingshoek. We zullen deze <i>mappen</i> naar een kolom met naam ``'Friction angle Kulhawy [deg]'``."
   ]
  },
  {
   "cell_type": "code",
   "execution_count": null,
   "id": "c553aef2-0930-46cd-b539-141e7d25d637",
   "metadata": {},
   "outputs": [],
   "source": [
    "cpt.apply_correlation('Friction angle Kulhawy and Mayne (1990)', outputs={'Phi [deg]': 'Friction angle Kulhawy [deg]'})"
   ]
  },
  {
   "cell_type": "markdown",
   "id": "892e3916-88ff-4be2-92ef-71f6be12e8a2",
   "metadata": {},
   "source": [
    "We kunnen de data weergeven na berekening:"
   ]
  },
  {
   "cell_type": "code",
   "execution_count": null,
   "id": "0575a91d-c782-44df-a8cb-e8e6829406c0",
   "metadata": {},
   "outputs": [],
   "source": [
    "cpt.data.head()"
   ]
  },
  {
   "cell_type": "markdown",
   "id": "f5302f5a-8dba-4b14-86f9-82ae26674210",
   "metadata": {},
   "source": [
    "Tenslotte kunnen we een grafiek maken Plotly van de conusweerstand en de berekende wrijvingshoek. We bouwen deze stap voor stap op (zie commentaar)."
   ]
  },
  {
   "cell_type": "code",
   "execution_count": null,
   "id": "697bee64-c9d2-4bfd-8c50-d61cb887d007",
   "metadata": {},
   "outputs": [],
   "source": [
    "# Maak een figuur met twee subplots naast elkaar, de diepte-as wordt gedeeld\n",
    "fig = subplots.make_subplots(rows=1, cols=2, print_grid=False, shared_yaxes=True)\n",
    "# Maak een trace aan voor de conusweerstand\n",
    "trace1 = go.Scatter(x=cpt.data['qc [MPa]'], y=cpt.data['z [m]'], showlegend=True, mode='lines',name='qc')\n",
    "# Ken deze trace toe aan het linkse panel\n",
    "fig.append_trace(trace1, 1, 1)\n",
    "# Maak een trace aan voor de wrijvingshoek\n",
    "trace2 = go.Scatter(x=cpt.data['Friction angle Kulhawy [deg]'], y=cpt.data['z [m]'], showlegend=True, mode='lines',name='phi')\n",
    "# Ken deze trace toe aan het rechtse panel\n",
    "fig.append_trace(trace2, 1, 2)\n",
    "# Defineer de titel, positie en range van de X-as voor het linkse subplot\n",
    "fig['layout']['xaxis1'].update(title=r'$ q_c \\ \\text{[MPa]}$', side='top', anchor='y', range=(0, 50))\n",
    "# Defineer de titel, positie en range van de X-as voor het rechtse subplot\n",
    "fig['layout']['xaxis2'].update(title=r'$ \\varphi^{\\prime} \\ \\text{[deg]}$', side='top', anchor='y', range=(20, 50))\n",
    "# Defineer de titel, positie en range van de diepte-as\n",
    "fig['layout']['yaxis1'].update(title=r'$ z \\ \\text{[m]}$', autorange='reversed')\n",
    "# Kies de hoogte en breedte van de grafiek\n",
    "fig['layout'].update(height=800, width=700)\n",
    "# Geef de grafiek weer\n",
    "fig.show()"
   ]
  },
  {
   "cell_type": "markdown",
   "id": "a2219fbf-e2fb-457d-942c-b97931011f69",
   "metadata": {},
   "source": [
    "# BRO demo\n",
    "\n",
    "We kunnen hetzelfde uitvoeren voor een CPT in Nederland. De syntax is minder <i>clean</i> dan voor pyDOV, maar de procedure werkt wel robuust.\n",
    "\n",
    "## Import van packages\n",
    "\n",
    "Eerst kunnen we een aantal packages importeren die nodig zijn voor de verwerking:"
   ]
  },
  {
   "cell_type": "code",
   "execution_count": null,
   "id": "0448e8b0-050a-4828-a488-a74f160fcfa5",
   "metadata": {},
   "outputs": [],
   "source": [
    "import xml.etree.ElementTree as ET\n",
    "import requests\n",
    "import re\n",
    "import numpy as np"
   ]
  },
  {
   "cell_type": "markdown",
   "id": "9b662418-02b8-47fc-807b-8e7554d7d45d",
   "metadata": {},
   "source": [
    "## Opzoeken van sonderingen volgens geografische positie\n",
    "\n",
    "De basis-URL voor API-calls wordt dan opgegeven."
   ]
  },
  {
   "cell_type": "code",
   "execution_count": null,
   "id": "396d03d0-308f-4618-8f6d-4866b62eddfa",
   "metadata": {},
   "outputs": [],
   "source": [
    "url = \"https://publiek.broservices.nl/sr/cpt/v1/characteristics/searches?requestReference=request\""
   ]
  },
  {
   "cell_type": "markdown",
   "id": "1148166f-ee44-441d-919d-ddad23f483c7",
   "metadata": {},
   "source": [
    "We kunnen een verzoek sturen op basis van een zekere registratieperiode en geografische positie (cirkel met straal 500m rond punt met gegeven lengte- en breedtegraad. Dat verzoek sturen we met een ``.post`` request."
   ]
  },
  {
   "cell_type": "code",
   "execution_count": null,
   "id": "91b17479-6a5c-49f4-9139-1d4b383f5f25",
   "metadata": {},
   "outputs": [],
   "source": [
    "# setup the query params (literal copy of the bro example in the docs)\n",
    "my_obj = {\n",
    "    \"registrationPeriod\": {\"beginDate\": \"2017-01-01\", \"endDate\": \"2021-01-01\"},\n",
    "    \"area\": {\n",
    "        \"enclosingCircle\": {\n",
    "            \"center\": {\"lat\": 52.038297852, \"lon\": 5.31447958948},\n",
    "            \"radius\": 0.5,\n",
    "        }\n",
    "    },\n",
    "}\n",
    "\n",
    "# get it..\n",
    "x = requests.post(url, json=my_obj)"
   ]
  },
  {
   "cell_type": "markdown",
   "id": "1d1b2e16-fc1c-4afa-a96e-9612c62b197a",
   "metadata": {},
   "source": [
    "Dit geeft een hoop XML (eXtensible Markup Language) terug die we kunnen <i>parsen</i>.\n",
    "\n",
    "## XML parsing"
   ]
  },
  {
   "cell_type": "code",
   "execution_count": null,
   "id": "e7e64b67-a533-4a0d-95cc-22c9510981d5",
   "metadata": {},
   "outputs": [],
   "source": [
    "x.text"
   ]
  },
  {
   "cell_type": "markdown",
   "id": "bba42929-8152-4628-b93e-0165eea7ebfe",
   "metadata": {},
   "source": [
    "De code om de IDs van de CPTs uit de XML te halen staat hieronder. Hier moet niets aan veranderd worden, wat van belang is, zijn de ``broIDs`` die eruit komen. Op basis van deze IDs kunnen we dan verder individuele CPTs ophalen."
   ]
  },
  {
   "cell_type": "code",
   "execution_count": null,
   "id": "fe5d2e2f-e9e7-44fb-aeb8-6286414742cc",
   "metadata": {},
   "outputs": [],
   "source": [
    "root = ET.fromstring(x.text)"
   ]
  },
  {
   "cell_type": "code",
   "execution_count": null,
   "id": "e8c2b02b-122b-409b-b41a-fa5abe456650",
   "metadata": {},
   "outputs": [],
   "source": [
    "broIds = []\n",
    "srids = []\n",
    "eastings = []\n",
    "northings = []\n",
    "for child in root:\n",
    "    if child.tag == \"{http://www.broservices.nl/xsd/dscpt/1.1}dispatchDocument\":\n",
    "        for elem in child:\n",
    "            for e in elem.findall(\"{http://www.broservices.nl/xsd/brocommon/3.0}broId\"):\n",
    "                broIds.append(e.text)\n",
    "            for e in elem.findall(\"{http://www.broservices.nl/xsd/brocommon/3.0}deliveredLocation\"):\n",
    "                srids.append(e.attrib['srsName'][-5:])\n",
    "                for _t in e:\n",
    "                    eastings.append(float(re.split(' ', _t.text)[0]))\n",
    "                    northings.append(float(re.split(' ', _t.text)[1]))\n",
    "            \n",
    "broIds, srids, eastings, northings"
   ]
  },
  {
   "cell_type": "markdown",
   "id": "b4c544c7-2c8e-46cf-ac17-369837271c1d",
   "metadata": {},
   "source": [
    "## Verwerking van één BRO CPT\n",
    "\n",
    "We kunnen de CPT met ID ``'CPT000000053406'`` ophalen en verwerken. We gebruiken hiervoor het package geotexxx van de gemeente Amsterdam (credit Thomas Van de Linden)."
   ]
  },
  {
   "cell_type": "code",
   "execution_count": null,
   "id": "e27e3527-aaa5-4022-8030-984eb398df76",
   "metadata": {},
   "outputs": [],
   "source": [
    "from geotexxx.gefxml_reader import Cpt"
   ]
  },
  {
   "cell_type": "markdown",
   "id": "1f4f714d-927b-48dd-a19b-9784818d54ab",
   "metadata": {},
   "source": [
    "We sturen onze request naar een specifieke URL die gedetailleerde CPT data teruggeeft."
   ]
  },
  {
   "cell_type": "code",
   "execution_count": null,
   "id": "5d4df6e8-11d4-468b-b6cb-3c0828089ce0",
   "metadata": {},
   "outputs": [],
   "source": [
    "detail_url = f\"https://publiek.broservices.nl/sr/cpt/v1/objects/%s\" % broIds[1]\n",
    "detail_url"
   ]
  },
  {
   "cell_type": "markdown",
   "id": "0595d231-397a-4b59-823f-433dced59491",
   "metadata": {},
   "source": [
    "We can send a ``get`` request to the URL to retrieve the CPT data."
   ]
  },
  {
   "cell_type": "code",
   "execution_count": null,
   "id": "a840631d-1246-4889-9c0c-f30d4da5748c",
   "metadata": {},
   "outputs": [],
   "source": [
    "resp = requests.get(detail_url)"
   ]
  },
  {
   "cell_type": "markdown",
   "id": "5d7e26f1-c959-458f-881c-9d5a7215339c",
   "metadata": {},
   "source": [
    "The response (``resp``) is XML test format. We can parse this using the ``Cpt`` class in the ``geotexxx`` package. Using the method ``.load_xml``, the response text can be loaded."
   ]
  },
  {
   "cell_type": "code",
   "execution_count": null,
   "id": "fc477266-0157-4b77-bae7-20237aeabfd8",
   "metadata": {},
   "outputs": [],
   "source": [
    "cpt_detail = Cpt()\n",
    "\n",
    "cpt_detail.load_xml(resp.text, fromFile=False)"
   ]
  },
  {
   "cell_type": "markdown",
   "id": "7bc7e8ec-c358-4d6f-8360-e9cffeaa2800",
   "metadata": {},
   "source": [
    "The CPT data is contained in the ``data`` attribute. This is a Pandas ``DataFrame`` which we can show. Note that the column headers are different from the ``groundhog`` convention."
   ]
  },
  {
   "cell_type": "code",
   "execution_count": null,
   "id": "a7a1e030-9206-4263-b9c7-6a6dda5268a2",
   "metadata": {},
   "outputs": [],
   "source": [
    "cpt_detail.data.head()"
   ]
  },
  {
   "cell_type": "markdown",
   "id": "8476d395-95ab-4daf-bcc9-de3fabe6db29",
   "metadata": {},
   "source": [
    "To import this CPT data in ``groundhog``, we will need to declare which column names to use for depth, tip resistance, sleeve friction and pore water pressure. A pore water pressure column is not available so we will first add it to the CPT data and fill it with NaN (not a number) values."
   ]
  },
  {
   "cell_type": "code",
   "execution_count": null,
   "id": "1b51c763-28dc-4b16-8673-b5d82b8deb3a",
   "metadata": {},
   "outputs": [],
   "source": [
    "# Fill all rows in the column 'u2 [MPa]' with the value NaN\n",
    "cpt_detail.data.loc[:, 'u2 [MPa]'] = np.nan"
   ]
  },
  {
   "cell_type": "markdown",
   "id": "6ed9bae0-db3d-47e4-91e6-d5f69a0c2fa0",
   "metadata": {},
   "source": [
    "Now, we can generate a ``groundhog`` ``PCPTProcessing`` object."
   ]
  },
  {
   "cell_type": "code",
   "execution_count": null,
   "id": "aa4b9965-88e6-436e-9e91-47c75ee0d6ad",
   "metadata": {},
   "outputs": [],
   "source": [
    "cpt_bro = PCPTProcessing(\"BRO CPT\")"
   ]
  },
  {
   "cell_type": "markdown",
   "id": "0582fafa-c6bb-40f1-9edb-53303791e4f4",
   "metadata": {},
   "source": [
    "As the CPT data is already available in a Pandas ``DataFrame``, we can use the method ``.load_pandas`` to load the CPT data. This is also where we specify which column name to use for depth (``z_key``), cone tip resistance (``qc_key``) and sleeve friction (``fs_key``). The key for pore pressure (``u2 [MPa]``) is already what ``groundhog`` expects."
   ]
  },
  {
   "cell_type": "code",
   "execution_count": null,
   "id": "530c1e09-118a-4001-a712-4deeb7b5bb3e",
   "metadata": {},
   "outputs": [],
   "source": [
    "cpt_bro.load_pandas(cpt_detail.data, z_key=\"penetrationLength\", qc_key=\"coneResistance\", fs_key=\"localFriction\")"
   ]
  },
  {
   "cell_type": "markdown",
   "id": "9f28b287-8ae4-4359-9ba4-fa098f94ce1d",
   "metadata": {},
   "source": [
    "The CPT is now loaded and can be plotted. Again, friction ratio is plotted instead of pore pressure. As the default range for $ q_c $ is quite large (0 - 100MPa), we can finetune is with the ``qc_range`` argument."
   ]
  },
  {
   "cell_type": "code",
   "execution_count": null,
   "id": "10c037d2-d64f-4ea6-891b-2998ebe24d80",
   "metadata": {},
   "outputs": [],
   "source": [
    "cpt_bro.plot_raw_pcpt(plot_friction_ratio=True, qc_range=(0, 40))"
   ]
  },
  {
   "cell_type": "code",
   "execution_count": null,
   "id": "1f959764-6324-4471-9238-7ea82b4dfb9d",
   "metadata": {},
   "outputs": [],
   "source": []
  }
 ],
 "metadata": {
  "kernelspec": {
   "display_name": "Python 3 (ipykernel)",
   "language": "python",
   "name": "python3"
  },
  "language_info": {
   "codemirror_mode": {
    "name": "ipython",
    "version": 3
   },
   "file_extension": ".py",
   "mimetype": "text/x-python",
   "name": "python",
   "nbconvert_exporter": "python",
   "pygments_lexer": "ipython3",
   "version": "3.10.9"
  }
 },
 "nbformat": 4,
 "nbformat_minor": 5
}
